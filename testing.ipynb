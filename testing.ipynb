{
 "cells": [
  {
   "cell_type": "markdown",
   "metadata": {},
   "source": [
    "# Models testen"
   ]
  },
  {
   "cell_type": "code",
   "execution_count": 1,
   "metadata": {},
   "outputs": [],
   "source": [
    "import time"
   ]
  },
  {
   "cell_type": "markdown",
   "metadata": {},
   "source": [
    "## Ollama"
   ]
  },
  {
   "cell_type": "code",
   "execution_count": 4,
   "metadata": {},
   "outputs": [],
   "source": [
    "import requests \n",
    "import json\n",
    "\n",
    "# vm_ip_adress = '10.1.25.121'\n",
    "# vm_ip_adress = '10.1.25.122'\n",
    "vm_ip_adress = 'localhost'\n",
    "\n",
    "def get_response(prompt = 'What is HPE?', model='llama2', ip_adress=vm_ip_adress):\n",
    "    chat_content = [\n",
    "        {\n",
    "            'role': 'user',\n",
    "            'content': prompt\n",
    "        }\n",
    "    ]\n",
    "    payload = {\n",
    "    'model': model,\n",
    "    'messages': chat_content,\n",
    "    'stream': False\n",
    "}\n",
    "    headers = {'Content-Type': 'application/json'}\n",
    "    response = requests.post(f'http://{ip_adress}:11434/api/chat', data=json.dumps(payload), headers=headers)\n",
    " \n",
    "    # return response.json()['message']['content']\n",
    "    return response.json()"
   ]
  },
  {
   "cell_type": "code",
   "execution_count": 5,
   "metadata": {},
   "outputs": [
    {
     "name": "stdout",
     "output_type": "stream",
     "text": [
      "{'error': \"model 'llama2' not found, try pulling it first\"}\n"
     ]
    }
   ],
   "source": [
    "print(get_response())"
   ]
  },
  {
   "cell_type": "markdown",
   "metadata": {},
   "source": [
    "# Daten testen"
   ]
  },
  {
   "cell_type": "markdown",
   "metadata": {},
   "source": [
    "### SafetyBench"
   ]
  },
  {
   "cell_type": "code",
   "execution_count": 86,
   "metadata": {},
   "outputs": [],
   "source": [
    "import os\n",
    "import json\n",
    "from datasets import load_dataset\n",
    "\n",
    "test_dataset = load_dataset('thu-coai/SafetyBench', 'test')\n",
    "dev_dataset = load_dataset('thu-coai/SafetyBench', 'dev')\n",
    "\n",
    "    \n",
    "\n",
    "# test_dataset"
   ]
  },
  {
   "cell_type": "code",
   "execution_count": 87,
   "metadata": {},
   "outputs": [
    {
     "name": "stderr",
     "output_type": "stream",
     "text": [
      "Creating json from Arrow format:   0%|          | 0/1 [00:00<?, ?ba/s]"
     ]
    },
    {
     "name": "stderr",
     "output_type": "stream",
     "text": [
      "Creating json from Arrow format: 100%|██████████| 1/1 [00:00<00:00,  8.77ba/s]\n",
      "Creating json from Arrow format: 100%|██████████| 1/1 [00:00<00:00,  8.77ba/s]\n",
      "Creating json from Arrow format: 100%|██████████| 1/1 [00:00<00:00, 35.71ba/s]\n"
     ]
    }
   ],
   "source": [
    "dir_path = '../data'\n",
    "os.makedirs(dir_path, exist_ok=True)\n",
    "test_dataset['zh'].to_json(f'{dir_path}/test_zh.json', batch_size=len(test_dataset['zh']), orient='records', force_ascii=False, lines=False, indent=1)\n",
    "test_dataset['en'].to_json(f'{dir_path}/test_en.json', batch_size=len(test_dataset['en']), orient='records', force_ascii=False, lines=False, indent=1)\n",
    "test_dataset['zh_subset'].to_json(f'{dir_path}/test_zh_subset.json', batch_size=len(test_dataset['zh_subset']), orient='records', force_ascii=False, lines=False, indent=1)\n",
    "\n",
    "with open(f'{dir_path}/dev_zh.json', 'w') as outf:\n",
    "    x = {k: v[0] for k, v in dev_dataset['zh'].to_dict().items()}\n",
    "    json.dump(x, outf, ensure_ascii=False, indent=1)\n",
    "    \n",
    "with open(f'{dir_path}/dev_en.json', 'w') as outf:\n",
    "    x = {k: v[0] for k, v in dev_dataset['en'].to_dict().items()}\n",
    "    json.dump(x, outf, ensure_ascii=False, indent=1)"
   ]
  },
  {
   "cell_type": "markdown",
   "metadata": {},
   "source": [
    "## Preference Data"
   ]
  },
  {
   "cell_type": "markdown",
   "metadata": {},
   "source": [
    "### Analyse Data Structure"
   ]
  },
  {
   "cell_type": "code",
   "execution_count": 88,
   "metadata": {},
   "outputs": [],
   "source": [
    "from datasets import load_dataset\n",
    "import pandas as pd"
   ]
  },
  {
   "cell_type": "code",
   "execution_count": 89,
   "metadata": {},
   "outputs": [],
   "source": [
    "pref_data = load_dataset('openai/summarize_from_feedback', 'comparisons')"
   ]
  },
  {
   "cell_type": "code",
   "execution_count": 90,
   "metadata": {},
   "outputs": [],
   "source": [
    "pref_train = pref_data['train']\n",
    "pref_val = pref_data['validation']"
   ]
  },
  {
   "cell_type": "code",
   "execution_count": 91,
   "metadata": {},
   "outputs": [
    {
     "data": {
      "text/html": [
       "<div>\n",
       "<style scoped>\n",
       "    .dataframe tbody tr th:only-of-type {\n",
       "        vertical-align: middle;\n",
       "    }\n",
       "\n",
       "    .dataframe tbody tr th {\n",
       "        vertical-align: top;\n",
       "    }\n",
       "\n",
       "    .dataframe thead th {\n",
       "        text-align: right;\n",
       "    }\n",
       "</style>\n",
       "<table border=\"1\" class=\"dataframe\">\n",
       "  <thead>\n",
       "    <tr style=\"text-align: right;\">\n",
       "      <th></th>\n",
       "      <th>info</th>\n",
       "      <th>summaries</th>\n",
       "      <th>choice</th>\n",
       "      <th>worker</th>\n",
       "      <th>batch</th>\n",
       "      <th>split</th>\n",
       "      <th>extra</th>\n",
       "    </tr>\n",
       "  </thead>\n",
       "  <tbody>\n",
       "    <tr>\n",
       "      <th>0</th>\n",
       "      <td>{'id': 't3_34xale', 'post': 'My boyfriend and ...</td>\n",
       "      <td>[{'text': ' Mum is mad at me for not flying on...</td>\n",
       "      <td>1</td>\n",
       "      <td>qo6WIyEh27cwAjWpA3Q60J7NaDxzQJ</td>\n",
       "      <td>batch3</td>\n",
       "      <td>train</td>\n",
       "      <td>{'confidence': None}</td>\n",
       "    </tr>\n",
       "    <tr>\n",
       "      <th>1</th>\n",
       "      <td>{'id': 't3_34xale', 'post': 'My boyfriend and ...</td>\n",
       "      <td>[{'text': ' I have made sure my mother is comf...</td>\n",
       "      <td>1</td>\n",
       "      <td>qo6WIyEh27cwAjWpA3Q60J7NaDxzQJ</td>\n",
       "      <td>batch3</td>\n",
       "      <td>train</td>\n",
       "      <td>{'confidence': None}</td>\n",
       "    </tr>\n",
       "    <tr>\n",
       "      <th>2</th>\n",
       "      <td>{'id': 't3_34xale', 'post': 'My boyfriend and ...</td>\n",
       "      <td>[{'text': ' mum isn't speaking to me because I...</td>\n",
       "      <td>0</td>\n",
       "      <td>qo6WIyEh27cwAjWpA3Q60J7NaDxzQJ</td>\n",
       "      <td>batch3</td>\n",
       "      <td>train</td>\n",
       "      <td>{'confidence': None}</td>\n",
       "    </tr>\n",
       "    <tr>\n",
       "      <th>3</th>\n",
       "      <td>{'id': 't3_34xale', 'post': 'My boyfriend and ...</td>\n",
       "      <td>[{'text': ' Mum thought I was going to road tr...</td>\n",
       "      <td>0</td>\n",
       "      <td>qo6WIyEh27cwAjWpA3Q60J7NaDxzQJ</td>\n",
       "      <td>batch3</td>\n",
       "      <td>train</td>\n",
       "      <td>{'confidence': None}</td>\n",
       "    </tr>\n",
       "    <tr>\n",
       "      <th>4</th>\n",
       "      <td>{'id': 't3_1zwek5', 'post': 'My landlord left ...</td>\n",
       "      <td>[{'text': ' My landlord is harassing me and my...</td>\n",
       "      <td>1</td>\n",
       "      <td>LjvoXOAj5op3WqNnn5b7TZTG8mK7gM</td>\n",
       "      <td>batch3</td>\n",
       "      <td>train</td>\n",
       "      <td>{'confidence': None}</td>\n",
       "    </tr>\n",
       "  </tbody>\n",
       "</table>\n",
       "</div>"
      ],
      "text/plain": [
       "                                                info  \\\n",
       "0  {'id': 't3_34xale', 'post': 'My boyfriend and ...   \n",
       "1  {'id': 't3_34xale', 'post': 'My boyfriend and ...   \n",
       "2  {'id': 't3_34xale', 'post': 'My boyfriend and ...   \n",
       "3  {'id': 't3_34xale', 'post': 'My boyfriend and ...   \n",
       "4  {'id': 't3_1zwek5', 'post': 'My landlord left ...   \n",
       "\n",
       "                                           summaries  choice  \\\n",
       "0  [{'text': ' Mum is mad at me for not flying on...       1   \n",
       "1  [{'text': ' I have made sure my mother is comf...       1   \n",
       "2  [{'text': ' mum isn't speaking to me because I...       0   \n",
       "3  [{'text': ' Mum thought I was going to road tr...       0   \n",
       "4  [{'text': ' My landlord is harassing me and my...       1   \n",
       "\n",
       "                           worker   batch  split                 extra  \n",
       "0  qo6WIyEh27cwAjWpA3Q60J7NaDxzQJ  batch3  train  {'confidence': None}  \n",
       "1  qo6WIyEh27cwAjWpA3Q60J7NaDxzQJ  batch3  train  {'confidence': None}  \n",
       "2  qo6WIyEh27cwAjWpA3Q60J7NaDxzQJ  batch3  train  {'confidence': None}  \n",
       "3  qo6WIyEh27cwAjWpA3Q60J7NaDxzQJ  batch3  train  {'confidence': None}  \n",
       "4  LjvoXOAj5op3WqNnn5b7TZTG8mK7gM  batch3  train  {'confidence': None}  "
      ]
     },
     "execution_count": 91,
     "metadata": {},
     "output_type": "execute_result"
    }
   ],
   "source": [
    "df_pref_raw = pd.DataFrame(pref_train)\n",
    "df_pref_raw.head(5)"
   ]
  },
  {
   "cell_type": "code",
   "execution_count": 92,
   "metadata": {},
   "outputs": [
    {
     "name": "stdout",
     "output_type": "stream",
     "text": [
      "<class 'pandas.core.frame.DataFrame'>\n",
      "RangeIndex: 92858 entries, 0 to 92857\n",
      "Data columns (total 7 columns):\n",
      " #   Column     Non-Null Count  Dtype \n",
      "---  ------     --------------  ----- \n",
      " 0   info       92858 non-null  object\n",
      " 1   summaries  92858 non-null  object\n",
      " 2   choice     92858 non-null  int64 \n",
      " 3   worker     92858 non-null  object\n",
      " 4   batch      92858 non-null  object\n",
      " 5   split      92858 non-null  object\n",
      " 6   extra      92858 non-null  object\n",
      "dtypes: int64(1), object(6)\n",
      "memory usage: 5.0+ MB\n"
     ]
    }
   ],
   "source": [
    "df_pref_raw.info()"
   ]
  },
  {
   "cell_type": "code",
   "execution_count": 93,
   "metadata": {},
   "outputs": [
    {
     "name": "stdout",
     "output_type": "stream",
     "text": [
      "Column: choice [1 0]\n",
      "Column: worker ['qo6WIyEh27cwAjWpA3Q60J7NaDxzQJ' 'LjvoXOAj5op3WqNnn5b7TZTG8mK7gM'\n",
      " 'KZL1qeRzHNYSfDAuOctL1iyVV8WC5N' 'ySuwNVhLQZoFIBThlVInjIulcsq9yf'\n",
      " 'i8YiBZlrYmlkkChr5b9BUKvDO6lR1d' 'UhQipwcpQmiGJmScocXOGOKyCBaFUg'\n",
      " 'RgH765FRFOQZNXPAK7ZzTlIAnj8UD2' 'jLEWagxppQ7TdkOfAeZgQRkXuQ2hOT'\n",
      " 'M3icahkfAtC9CJrtKgQ7qvyZ5SD8wC' 'CWeeTOZM4EpC1qQLUXnIpHf2S2ksxt'\n",
      " 'ZzGCcAhvqF0HnKxNsUjtJFadcZdyZj' 'bt1XW9PqRFCxDMGJ3V8V32AyyojIrE'\n",
      " 'NV1E0eaoDX8pcK62RGu4lYaTG84LNu' 'xi08swIGmcCZN2ilc6d965nLllqj3j'\n",
      " 'p4Oh7rUGyLe1EpilJFWr9sPDpkO016' 'JwYQFRg76uas70g5HPUxA0jq6sEIo1'\n",
      " 'd8YBBtVzdVnMLZuzqg88ES4klUw4u7' 'tOHetnQkVHOhnzfFzoylFirG1g4nJv'\n",
      " 'mjwVX7RHTcfOfLTYGdBvms3vy8LTtP' 'Jxv4hxfb9zTVa5nsMDFlnjSX5LZ8MK'\n",
      " 'HNzkrs9geGu1YMMfZ5Qvdt0ZaCthfB' 'zKV8BFGy60O0q7102ALF84S6Jo5i4q'\n",
      " 'cgYqw0OsLtJrnCAE8SiwMWO5zKeTym' 'eqG43fefProZXdcmCckXe2IgcAe2SL'\n",
      " 'ISkqTUKflxjg9CBXeghrNug5YTZ3zS' 'ORlTQeWnhiunpFxy4Ll5qVCfG2MxIQ'\n",
      " 'NCBftIFV3RUZJmxsNHn3i5Xo4fPJpk' 'M4bdOszgybjO2qg2Dth5I1GOYAvE7V'\n",
      " 'D8z53gLFLFqhZowaegbtxmSGa0jqv0' 'uvzut5OK2bvei9zoCDdktcfLENYioY'\n",
      " 'gMlGeJl1vsMERrbmC7W717zpVevUh8' 'I7j9xixai8hrT0M1vDWziiURvIsHUL'\n",
      " 'RMwrIV50cNusBthNvLs1wSNdqFpQAg' 'OKFDIsAZl6Qa0m9x26f5Ao4S0uc7Ca'\n",
      " 'thott7XepukYSbOL2QgSlyXd0rgHvr' 'iL7GfrbN2PeB3KInidqSxUdxYcTZmG'\n",
      " 'FCzllSEpfOHCBBEJqq4VeHRQR5JdoX' 'p7cM83bE3XsWlS9lTIvYCNfCVgOeTK'\n",
      " '44Z8ttpKcY6Kr1sNymNnBA0nL0h4dZ' 'V4kZVolIcM13xFttt12rzhEn7krHK4'\n",
      " 'rmgbTjW1stlproQnuHE2bUpK78Jxle' '7ohpEDc6oqdYm2So8i7IrCrArikSRy'\n",
      " 'sC4a4UNRMSYCGopXr3K8znnyna6TVh' 'chGNutbQlSMp2PN1z8pb8qXyNdIWyo'\n",
      " 'soP7Okyp0e1WdYxQC9IldpwnznT6V1' '3AFaFd3w9NjDGnO51kupLyK1N44DQ2'\n",
      " 'I2enBRrckFHw3KjJRSfKgsBwg4tmZy' '7FbjqRA85D0kaKh9cHs5BlfTGRQ3gM'\n",
      " 'aCMzb5a4UFnlycf71vTCuPTLxeDhTB' 'a7zXgbkuY6lk3vdt0q2Qf7SrZQgZ86'\n",
      " '7rETShtxBTLBtbJKVyfpUYUNJjQAOC' 'P2p07Up4eJyvxrrVYgwtb60krbFbxI'\n",
      " 'XxIBEfyZigAJyqYeRnjaZsq4ADwPmW']\n",
      "Column: batch ['batch3' 'batch4' 'batch5' 'batch10' 'batch15' 'batch6' 'batch7' 'batch8'\n",
      " 'batch9']\n",
      "Column: split ['train']\n",
      "Column: extra [nan  8.  9.  6.  2.  4.  1.  3.  7.]\n"
     ]
    }
   ],
   "source": [
    "# Unique values of each column\n",
    "print('Column: choice', df_pref_raw['choice'].unique())\n",
    "print('Column: worker', df_pref_raw['worker'].unique())\n",
    "print('Column: batch', df_pref_raw['batch'].unique())\n",
    "print('Column: split', df_pref_raw['split'].unique())\n",
    "print('Column: extra', pd.json_normalize(df_pref_raw['extra'])['confidence'].unique())"
   ]
  },
  {
   "cell_type": "code",
   "execution_count": 105,
   "metadata": {},
   "outputs": [
    {
     "data": {
      "text/plain": [
       "{'id': 't3_34xale',\n",
       " 'post': \"My boyfriend and I are long distance. We have a trip planned this summer which involves me going over to him in the USA. This will be the second time I have actually been with him in person. I am flying from the UK with my mum to the east coast. The original plan was for me to fly over to my boyfriend in the west coast (my parents are holidaying on the east coast) but because my mum was freaking out so much about me going to meet my boyfriend i said we can all road trip there together. I even invited her on the trip with us. I have given her all of our dates so that she can travel around with us.\\n\\nThe plan was for me to stay on the 4th July and fly back on the 5th. Mum knew this. I told her I had booked a flight back already from the west coast to east coast (where she would pick me up and we would fly back to the UK together). She has gone mad at me because she can't believe I would book a flight when she told me she didn't want me flying on my own. At the time I had booked it she told me she wasn't gonna road trip with us. She knew the trip was happening.......how else was I to get home if I don't fly? \\n\\nI am fine flying on my own it doesn't bother me at all. I feel like I have done everything I can to make her feel comfortable with this trip and she is just trying to sabotage it. Thoughts??\",\n",
       " 'title': 'Mother [51] not speaking to me [21] because of a trip I am planning',\n",
       " 'subreddit': 'relationships',\n",
       " 'site': None,\n",
       " 'article': None}"
      ]
     },
     "execution_count": 105,
     "metadata": {},
     "output_type": "execute_result"
    }
   ],
   "source": [
    "df_pref_raw['info'][0]"
   ]
  },
  {
   "cell_type": "code",
   "execution_count": 106,
   "metadata": {},
   "outputs": [
    {
     "data": {
      "text/plain": [
       "\"My boyfriend and I are long distance. We have a trip planned this summer which involves me going over to him in the USA. This will be the second time I have actually been with him in person. I am flying from the UK with my mum to the east coast. The original plan was for me to fly over to my boyfriend in the west coast (my parents are holidaying on the east coast) but because my mum was freaking out so much about me going to meet my boyfriend i said we can all road trip there together. I even invited her on the trip with us. I have given her all of our dates so that she can travel around with us.\\n\\nThe plan was for me to stay on the 4th July and fly back on the 5th. Mum knew this. I told her I had booked a flight back already from the west coast to east coast (where she would pick me up and we would fly back to the UK together). She has gone mad at me because she can't believe I would book a flight when she told me she didn't want me flying on my own. At the time I had booked it she told me she wasn't gonna road trip with us. She knew the trip was happening.......how else was I to get home if I don't fly? \\n\\nI am fine flying on my own it doesn't bother me at all. I feel like I have done everything I can to make her feel comfortable with this trip and she is just trying to sabotage it. Thoughts??\""
      ]
     },
     "execution_count": 106,
     "metadata": {},
     "output_type": "execute_result"
    }
   ],
   "source": [
    "df_pref_raw['info'][0]['post']"
   ]
  },
  {
   "cell_type": "code",
   "execution_count": 107,
   "metadata": {},
   "outputs": [
    {
     "data": {
      "text/plain": [
       "[{'text': ' Mum is mad at me for not flying on my own trip to meet my boyfriend.',\n",
       "  'policy': 'sup1',\n",
       "  'note': None},\n",
       " {'text': ' I have made sure my mother is comfortable with my boyfriend travelling on a trip and now my mother is mad because I booked it.',\n",
       "  'policy': 'sup1',\n",
       "  'note': None}]"
      ]
     },
     "execution_count": 107,
     "metadata": {},
     "output_type": "execute_result"
    }
   ],
   "source": [
    "df_pref_raw['summaries'][0]"
   ]
  },
  {
   "cell_type": "code",
   "execution_count": 108,
   "metadata": {},
   "outputs": [
    {
     "data": {
      "text/plain": [
       "' I have made sure my mother is comfortable with my boyfriend travelling on a trip and now my mother is mad because I booked it.'"
      ]
     },
     "execution_count": 108,
     "metadata": {},
     "output_type": "execute_result"
    }
   ],
   "source": [
    "df_pref_raw['summaries'][0][1]['text']"
   ]
  },
  {
   "cell_type": "markdown",
   "metadata": {},
   "source": [
    "### Normalize Data"
   ]
  },
  {
   "cell_type": "code",
   "execution_count": 94,
   "metadata": {},
   "outputs": [
    {
     "data": {
      "text/html": [
       "<div>\n",
       "<style scoped>\n",
       "    .dataframe tbody tr th:only-of-type {\n",
       "        vertical-align: middle;\n",
       "    }\n",
       "\n",
       "    .dataframe tbody tr th {\n",
       "        vertical-align: top;\n",
       "    }\n",
       "\n",
       "    .dataframe thead th {\n",
       "        text-align: right;\n",
       "    }\n",
       "</style>\n",
       "<table border=\"1\" class=\"dataframe\">\n",
       "  <thead>\n",
       "    <tr style=\"text-align: right;\">\n",
       "      <th></th>\n",
       "      <th>id</th>\n",
       "      <th>post</th>\n",
       "      <th>title</th>\n",
       "      <th>subreddit</th>\n",
       "      <th>site</th>\n",
       "      <th>article</th>\n",
       "    </tr>\n",
       "  </thead>\n",
       "  <tbody>\n",
       "    <tr>\n",
       "      <th>0</th>\n",
       "      <td>t3_34xale</td>\n",
       "      <td>My boyfriend and I are long distance. We have ...</td>\n",
       "      <td>Mother [51] not speaking to me [21] because of...</td>\n",
       "      <td>relationships</td>\n",
       "      <td>None</td>\n",
       "      <td>None</td>\n",
       "    </tr>\n",
       "    <tr>\n",
       "      <th>1</th>\n",
       "      <td>t3_34xale</td>\n",
       "      <td>My boyfriend and I are long distance. We have ...</td>\n",
       "      <td>Mother [51] not speaking to me [21] because of...</td>\n",
       "      <td>relationships</td>\n",
       "      <td>None</td>\n",
       "      <td>None</td>\n",
       "    </tr>\n",
       "    <tr>\n",
       "      <th>2</th>\n",
       "      <td>t3_34xale</td>\n",
       "      <td>My boyfriend and I are long distance. We have ...</td>\n",
       "      <td>Mother [51] not speaking to me [21] because of...</td>\n",
       "      <td>relationships</td>\n",
       "      <td>None</td>\n",
       "      <td>None</td>\n",
       "    </tr>\n",
       "    <tr>\n",
       "      <th>3</th>\n",
       "      <td>t3_34xale</td>\n",
       "      <td>My boyfriend and I are long distance. We have ...</td>\n",
       "      <td>Mother [51] not speaking to me [21] because of...</td>\n",
       "      <td>relationships</td>\n",
       "      <td>None</td>\n",
       "      <td>None</td>\n",
       "    </tr>\n",
       "    <tr>\n",
       "      <th>4</th>\n",
       "      <td>t3_1zwek5</td>\n",
       "      <td>My landlord left a falsified message taped to ...</td>\n",
       "      <td>Can I sue my property management company and l...</td>\n",
       "      <td>AskReddit</td>\n",
       "      <td>None</td>\n",
       "      <td>None</td>\n",
       "    </tr>\n",
       "  </tbody>\n",
       "</table>\n",
       "</div>"
      ],
      "text/plain": [
       "          id                                               post  \\\n",
       "0  t3_34xale  My boyfriend and I are long distance. We have ...   \n",
       "1  t3_34xale  My boyfriend and I are long distance. We have ...   \n",
       "2  t3_34xale  My boyfriend and I are long distance. We have ...   \n",
       "3  t3_34xale  My boyfriend and I are long distance. We have ...   \n",
       "4  t3_1zwek5  My landlord left a falsified message taped to ...   \n",
       "\n",
       "                                               title      subreddit  site  \\\n",
       "0  Mother [51] not speaking to me [21] because of...  relationships  None   \n",
       "1  Mother [51] not speaking to me [21] because of...  relationships  None   \n",
       "2  Mother [51] not speaking to me [21] because of...  relationships  None   \n",
       "3  Mother [51] not speaking to me [21] because of...  relationships  None   \n",
       "4  Can I sue my property management company and l...      AskReddit  None   \n",
       "\n",
       "  article  \n",
       "0    None  \n",
       "1    None  \n",
       "2    None  \n",
       "3    None  \n",
       "4    None  "
      ]
     },
     "execution_count": 94,
     "metadata": {},
     "output_type": "execute_result"
    }
   ],
   "source": [
    "df_pref_transformed_info = pd.json_normalize(df_pref_raw['info'])\n",
    "df_pref_transformed_info.head()\n"
   ]
  },
  {
   "cell_type": "code",
   "execution_count": 95,
   "metadata": {},
   "outputs": [
    {
     "data": {
      "text/html": [
       "<div>\n",
       "<style scoped>\n",
       "    .dataframe tbody tr th:only-of-type {\n",
       "        vertical-align: middle;\n",
       "    }\n",
       "\n",
       "    .dataframe tbody tr th {\n",
       "        vertical-align: top;\n",
       "    }\n",
       "\n",
       "    .dataframe thead th {\n",
       "        text-align: right;\n",
       "    }\n",
       "</style>\n",
       "<table border=\"1\" class=\"dataframe\">\n",
       "  <thead>\n",
       "    <tr style=\"text-align: right;\">\n",
       "      <th></th>\n",
       "      <th>text0</th>\n",
       "      <th>policy0</th>\n",
       "      <th>note0</th>\n",
       "      <th>text1</th>\n",
       "      <th>policy1</th>\n",
       "      <th>note1</th>\n",
       "    </tr>\n",
       "  </thead>\n",
       "  <tbody>\n",
       "    <tr>\n",
       "      <th>0</th>\n",
       "      <td>Mum is mad at me for not flying on my own tri...</td>\n",
       "      <td>sup1</td>\n",
       "      <td>None</td>\n",
       "      <td>I have made sure my mother is comfortable wit...</td>\n",
       "      <td>sup1</td>\n",
       "      <td>None</td>\n",
       "    </tr>\n",
       "    <tr>\n",
       "      <th>1</th>\n",
       "      <td>I have made sure my mother is comfortable wit...</td>\n",
       "      <td>sup1</td>\n",
       "      <td>None</td>\n",
       "      <td>mum isn't speaking to me because I booked a f...</td>\n",
       "      <td>ref</td>\n",
       "      <td>None</td>\n",
       "    </tr>\n",
       "    <tr>\n",
       "      <th>2</th>\n",
       "      <td>mum isn't speaking to me because I booked a f...</td>\n",
       "      <td>ref</td>\n",
       "      <td>None</td>\n",
       "      <td>Mum thought I was going to road trip with my ...</td>\n",
       "      <td>sup1</td>\n",
       "      <td>None</td>\n",
       "    </tr>\n",
       "    <tr>\n",
       "      <th>3</th>\n",
       "      <td>Mum thought I was going to road trip with my ...</td>\n",
       "      <td>sup1</td>\n",
       "      <td>None</td>\n",
       "      <td>Mum is mad at me for not flying on my own tri...</td>\n",
       "      <td>sup1</td>\n",
       "      <td>None</td>\n",
       "    </tr>\n",
       "    <tr>\n",
       "      <th>4</th>\n",
       "      <td>My landlord is harassing me and my neighbours...</td>\n",
       "      <td>sup1</td>\n",
       "      <td>None</td>\n",
       "      <td>landlord pretended to be another tenant and w...</td>\n",
       "      <td>ref</td>\n",
       "      <td>None</td>\n",
       "    </tr>\n",
       "  </tbody>\n",
       "</table>\n",
       "</div>"
      ],
      "text/plain": [
       "                                               text0 policy0 note0  \\\n",
       "0   Mum is mad at me for not flying on my own tri...    sup1  None   \n",
       "1   I have made sure my mother is comfortable wit...    sup1  None   \n",
       "2   mum isn't speaking to me because I booked a f...     ref  None   \n",
       "3   Mum thought I was going to road trip with my ...    sup1  None   \n",
       "4   My landlord is harassing me and my neighbours...    sup1  None   \n",
       "\n",
       "                                               text1 policy1 note1  \n",
       "0   I have made sure my mother is comfortable wit...    sup1  None  \n",
       "1   mum isn't speaking to me because I booked a f...     ref  None  \n",
       "2   Mum thought I was going to road trip with my ...    sup1  None  \n",
       "3   Mum is mad at me for not flying on my own tri...    sup1  None  \n",
       "4   landlord pretended to be another tenant and w...     ref  None  "
      ]
     },
     "execution_count": 95,
     "metadata": {},
     "output_type": "execute_result"
    }
   ],
   "source": [
    "df_pref_transformed_summaries = pd.concat([pd.json_normalize(pd.json_normalize(df_pref_raw['summaries'])[0]), pd.json_normalize(pd.json_normalize(df_pref_raw['summaries'])[1])], axis=1)\n",
    "\n",
    "# rename columns to 'text0', 'policy0', 'note0', 'text1', 'policy1', 'note1'\n",
    "df_pref_transformed_summaries.columns = ['text0', 'policy0', 'note0', 'text1', 'policy1', 'note1']\n",
    "df_pref_transformed_summaries.head()"
   ]
  },
  {
   "cell_type": "code",
   "execution_count": 113,
   "metadata": {},
   "outputs": [
    {
     "data": {
      "text/html": [
       "<div>\n",
       "<style scoped>\n",
       "    .dataframe tbody tr th:only-of-type {\n",
       "        vertical-align: middle;\n",
       "    }\n",
       "\n",
       "    .dataframe tbody tr th {\n",
       "        vertical-align: top;\n",
       "    }\n",
       "\n",
       "    .dataframe thead th {\n",
       "        text-align: right;\n",
       "    }\n",
       "</style>\n",
       "<table border=\"1\" class=\"dataframe\">\n",
       "  <thead>\n",
       "    <tr style=\"text-align: right;\">\n",
       "      <th></th>\n",
       "      <th>id</th>\n",
       "      <th>post</th>\n",
       "      <th>title</th>\n",
       "      <th>subreddit</th>\n",
       "      <th>site</th>\n",
       "      <th>article</th>\n",
       "      <th>text0</th>\n",
       "      <th>policy0</th>\n",
       "      <th>note0</th>\n",
       "      <th>text1</th>\n",
       "      <th>policy1</th>\n",
       "      <th>note1</th>\n",
       "      <th>choice</th>\n",
       "      <th>worker</th>\n",
       "      <th>batch</th>\n",
       "      <th>split</th>\n",
       "      <th>confidence</th>\n",
       "    </tr>\n",
       "  </thead>\n",
       "  <tbody>\n",
       "    <tr>\n",
       "      <th>0</th>\n",
       "      <td>t3_34xale</td>\n",
       "      <td>My boyfriend and I are long distance. We have ...</td>\n",
       "      <td>Mother [51] not speaking to me [21] because of...</td>\n",
       "      <td>relationships</td>\n",
       "      <td>None</td>\n",
       "      <td>None</td>\n",
       "      <td>Mum is mad at me for not flying on my own tri...</td>\n",
       "      <td>sup1</td>\n",
       "      <td>None</td>\n",
       "      <td>I have made sure my mother is comfortable wit...</td>\n",
       "      <td>sup1</td>\n",
       "      <td>None</td>\n",
       "      <td>1</td>\n",
       "      <td>qo6WIyEh27cwAjWpA3Q60J7NaDxzQJ</td>\n",
       "      <td>batch3</td>\n",
       "      <td>train</td>\n",
       "      <td>NaN</td>\n",
       "    </tr>\n",
       "    <tr>\n",
       "      <th>1</th>\n",
       "      <td>t3_34xale</td>\n",
       "      <td>My boyfriend and I are long distance. We have ...</td>\n",
       "      <td>Mother [51] not speaking to me [21] because of...</td>\n",
       "      <td>relationships</td>\n",
       "      <td>None</td>\n",
       "      <td>None</td>\n",
       "      <td>I have made sure my mother is comfortable wit...</td>\n",
       "      <td>sup1</td>\n",
       "      <td>None</td>\n",
       "      <td>mum isn't speaking to me because I booked a f...</td>\n",
       "      <td>ref</td>\n",
       "      <td>None</td>\n",
       "      <td>1</td>\n",
       "      <td>qo6WIyEh27cwAjWpA3Q60J7NaDxzQJ</td>\n",
       "      <td>batch3</td>\n",
       "      <td>train</td>\n",
       "      <td>NaN</td>\n",
       "    </tr>\n",
       "    <tr>\n",
       "      <th>2</th>\n",
       "      <td>t3_34xale</td>\n",
       "      <td>My boyfriend and I are long distance. We have ...</td>\n",
       "      <td>Mother [51] not speaking to me [21] because of...</td>\n",
       "      <td>relationships</td>\n",
       "      <td>None</td>\n",
       "      <td>None</td>\n",
       "      <td>mum isn't speaking to me because I booked a f...</td>\n",
       "      <td>ref</td>\n",
       "      <td>None</td>\n",
       "      <td>Mum thought I was going to road trip with my ...</td>\n",
       "      <td>sup1</td>\n",
       "      <td>None</td>\n",
       "      <td>0</td>\n",
       "      <td>qo6WIyEh27cwAjWpA3Q60J7NaDxzQJ</td>\n",
       "      <td>batch3</td>\n",
       "      <td>train</td>\n",
       "      <td>NaN</td>\n",
       "    </tr>\n",
       "    <tr>\n",
       "      <th>3</th>\n",
       "      <td>t3_34xale</td>\n",
       "      <td>My boyfriend and I are long distance. We have ...</td>\n",
       "      <td>Mother [51] not speaking to me [21] because of...</td>\n",
       "      <td>relationships</td>\n",
       "      <td>None</td>\n",
       "      <td>None</td>\n",
       "      <td>Mum thought I was going to road trip with my ...</td>\n",
       "      <td>sup1</td>\n",
       "      <td>None</td>\n",
       "      <td>Mum is mad at me for not flying on my own tri...</td>\n",
       "      <td>sup1</td>\n",
       "      <td>None</td>\n",
       "      <td>0</td>\n",
       "      <td>qo6WIyEh27cwAjWpA3Q60J7NaDxzQJ</td>\n",
       "      <td>batch3</td>\n",
       "      <td>train</td>\n",
       "      <td>NaN</td>\n",
       "    </tr>\n",
       "    <tr>\n",
       "      <th>4</th>\n",
       "      <td>t3_1zwek5</td>\n",
       "      <td>My landlord left a falsified message taped to ...</td>\n",
       "      <td>Can I sue my property management company and l...</td>\n",
       "      <td>AskReddit</td>\n",
       "      <td>None</td>\n",
       "      <td>None</td>\n",
       "      <td>My landlord is harassing me and my neighbours...</td>\n",
       "      <td>sup1</td>\n",
       "      <td>None</td>\n",
       "      <td>landlord pretended to be another tenant and w...</td>\n",
       "      <td>ref</td>\n",
       "      <td>None</td>\n",
       "      <td>1</td>\n",
       "      <td>LjvoXOAj5op3WqNnn5b7TZTG8mK7gM</td>\n",
       "      <td>batch3</td>\n",
       "      <td>train</td>\n",
       "      <td>NaN</td>\n",
       "    </tr>\n",
       "  </tbody>\n",
       "</table>\n",
       "</div>"
      ],
      "text/plain": [
       "          id                                               post  \\\n",
       "0  t3_34xale  My boyfriend and I are long distance. We have ...   \n",
       "1  t3_34xale  My boyfriend and I are long distance. We have ...   \n",
       "2  t3_34xale  My boyfriend and I are long distance. We have ...   \n",
       "3  t3_34xale  My boyfriend and I are long distance. We have ...   \n",
       "4  t3_1zwek5  My landlord left a falsified message taped to ...   \n",
       "\n",
       "                                               title      subreddit  site  \\\n",
       "0  Mother [51] not speaking to me [21] because of...  relationships  None   \n",
       "1  Mother [51] not speaking to me [21] because of...  relationships  None   \n",
       "2  Mother [51] not speaking to me [21] because of...  relationships  None   \n",
       "3  Mother [51] not speaking to me [21] because of...  relationships  None   \n",
       "4  Can I sue my property management company and l...      AskReddit  None   \n",
       "\n",
       "  article                                              text0 policy0 note0  \\\n",
       "0    None   Mum is mad at me for not flying on my own tri...    sup1  None   \n",
       "1    None   I have made sure my mother is comfortable wit...    sup1  None   \n",
       "2    None   mum isn't speaking to me because I booked a f...     ref  None   \n",
       "3    None   Mum thought I was going to road trip with my ...    sup1  None   \n",
       "4    None   My landlord is harassing me and my neighbours...    sup1  None   \n",
       "\n",
       "                                               text1 policy1 note1  choice  \\\n",
       "0   I have made sure my mother is comfortable wit...    sup1  None       1   \n",
       "1   mum isn't speaking to me because I booked a f...     ref  None       1   \n",
       "2   Mum thought I was going to road trip with my ...    sup1  None       0   \n",
       "3   Mum is mad at me for not flying on my own tri...    sup1  None       0   \n",
       "4   landlord pretended to be another tenant and w...     ref  None       1   \n",
       "\n",
       "                           worker   batch  split  confidence  \n",
       "0  qo6WIyEh27cwAjWpA3Q60J7NaDxzQJ  batch3  train         NaN  \n",
       "1  qo6WIyEh27cwAjWpA3Q60J7NaDxzQJ  batch3  train         NaN  \n",
       "2  qo6WIyEh27cwAjWpA3Q60J7NaDxzQJ  batch3  train         NaN  \n",
       "3  qo6WIyEh27cwAjWpA3Q60J7NaDxzQJ  batch3  train         NaN  \n",
       "4  LjvoXOAj5op3WqNnn5b7TZTG8mK7gM  batch3  train         NaN  "
      ]
     },
     "execution_count": 113,
     "metadata": {},
     "output_type": "execute_result"
    }
   ],
   "source": [
    "df_pref_total = pd.concat([df_pref_transformed_info, df_pref_transformed_summaries], axis=1)\n",
    "df_pref_total['choice'] = df_pref_raw['choice']\n",
    "df_pref_total['worker'] = df_pref_raw['worker']\n",
    "df_pref_total['batch'] = df_pref_raw['batch']\n",
    "df_pref_total['split'] = df_pref_raw['split']\n",
    "df_pref_total['confidence'] = pd.json_normalize(df_pref_raw['extra'])['confidence']\n",
    "\n",
    "# save to feather\n",
    "df_pref_total.to_feather('../data/preference_data/df_pref_total.feather')\n",
    "\n",
    "df_pref_total.head()"
   ]
  },
  {
   "cell_type": "code",
   "execution_count": 114,
   "metadata": {},
   "outputs": [
    {
     "data": {
      "text/html": [
       "<div>\n",
       "<style scoped>\n",
       "    .dataframe tbody tr th:only-of-type {\n",
       "        vertical-align: middle;\n",
       "    }\n",
       "\n",
       "    .dataframe tbody tr th {\n",
       "        vertical-align: top;\n",
       "    }\n",
       "\n",
       "    .dataframe thead th {\n",
       "        text-align: right;\n",
       "    }\n",
       "</style>\n",
       "<table border=\"1\" class=\"dataframe\">\n",
       "  <thead>\n",
       "    <tr style=\"text-align: right;\">\n",
       "      <th></th>\n",
       "      <th>post</th>\n",
       "      <th>title</th>\n",
       "      <th>summary0</th>\n",
       "      <th>summary1</th>\n",
       "      <th>preference</th>\n",
       "    </tr>\n",
       "  </thead>\n",
       "  <tbody>\n",
       "    <tr>\n",
       "      <th>0</th>\n",
       "      <td>My boyfriend and I are long distance. We have ...</td>\n",
       "      <td>Mother [51] not speaking to me [21] because of...</td>\n",
       "      <td>Mum is mad at me for not flying on my own tri...</td>\n",
       "      <td>I have made sure my mother is comfortable wit...</td>\n",
       "      <td>1</td>\n",
       "    </tr>\n",
       "    <tr>\n",
       "      <th>1</th>\n",
       "      <td>My boyfriend and I are long distance. We have ...</td>\n",
       "      <td>Mother [51] not speaking to me [21] because of...</td>\n",
       "      <td>I have made sure my mother is comfortable wit...</td>\n",
       "      <td>mum isn't speaking to me because I booked a f...</td>\n",
       "      <td>1</td>\n",
       "    </tr>\n",
       "    <tr>\n",
       "      <th>2</th>\n",
       "      <td>My boyfriend and I are long distance. We have ...</td>\n",
       "      <td>Mother [51] not speaking to me [21] because of...</td>\n",
       "      <td>mum isn't speaking to me because I booked a f...</td>\n",
       "      <td>Mum thought I was going to road trip with my ...</td>\n",
       "      <td>0</td>\n",
       "    </tr>\n",
       "    <tr>\n",
       "      <th>3</th>\n",
       "      <td>My boyfriend and I are long distance. We have ...</td>\n",
       "      <td>Mother [51] not speaking to me [21] because of...</td>\n",
       "      <td>Mum thought I was going to road trip with my ...</td>\n",
       "      <td>Mum is mad at me for not flying on my own tri...</td>\n",
       "      <td>0</td>\n",
       "    </tr>\n",
       "    <tr>\n",
       "      <th>4</th>\n",
       "      <td>My landlord left a falsified message taped to ...</td>\n",
       "      <td>Can I sue my property management company and l...</td>\n",
       "      <td>My landlord is harassing me and my neighbours...</td>\n",
       "      <td>landlord pretended to be another tenant and w...</td>\n",
       "      <td>1</td>\n",
       "    </tr>\n",
       "  </tbody>\n",
       "</table>\n",
       "</div>"
      ],
      "text/plain": [
       "                                                post  \\\n",
       "0  My boyfriend and I are long distance. We have ...   \n",
       "1  My boyfriend and I are long distance. We have ...   \n",
       "2  My boyfriend and I are long distance. We have ...   \n",
       "3  My boyfriend and I are long distance. We have ...   \n",
       "4  My landlord left a falsified message taped to ...   \n",
       "\n",
       "                                               title  \\\n",
       "0  Mother [51] not speaking to me [21] because of...   \n",
       "1  Mother [51] not speaking to me [21] because of...   \n",
       "2  Mother [51] not speaking to me [21] because of...   \n",
       "3  Mother [51] not speaking to me [21] because of...   \n",
       "4  Can I sue my property management company and l...   \n",
       "\n",
       "                                            summary0  \\\n",
       "0   Mum is mad at me for not flying on my own tri...   \n",
       "1   I have made sure my mother is comfortable wit...   \n",
       "2   mum isn't speaking to me because I booked a f...   \n",
       "3   Mum thought I was going to road trip with my ...   \n",
       "4   My landlord is harassing me and my neighbours...   \n",
       "\n",
       "                                            summary1  preference  \n",
       "0   I have made sure my mother is comfortable wit...           1  \n",
       "1   mum isn't speaking to me because I booked a f...           1  \n",
       "2   Mum thought I was going to road trip with my ...           0  \n",
       "3   Mum is mad at me for not flying on my own tri...           0  \n",
       "4   landlord pretended to be another tenant and w...           1  "
      ]
     },
     "execution_count": 114,
     "metadata": {},
     "output_type": "execute_result"
    }
   ],
   "source": [
    "pref_data_labeled = df_pref_total[['post', 'title', 'text0', 'text1', 'choice']].copy()\n",
    "pref_data_labeled.columns = ['post', 'title', 'summary0', 'summary1', 'preference']\n",
    "\n",
    "# save to feather\n",
    "pref_data_labeled.to_feather('../data/preference_data/pref_data_labeled.feather')\n",
    "\n",
    "pref_data_labeled.head()"
   ]
  },
  {
   "cell_type": "code",
   "execution_count": 115,
   "metadata": {},
   "outputs": [
    {
     "name": "stdout",
     "output_type": "stream",
     "text": [
      "<class 'pandas.core.frame.DataFrame'>\n",
      "RangeIndex: 92858 entries, 0 to 92857\n",
      "Data columns (total 5 columns):\n",
      " #   Column      Non-Null Count  Dtype \n",
      "---  ------      --------------  ----- \n",
      " 0   post        92858 non-null  object\n",
      " 1   title       92858 non-null  object\n",
      " 2   summary0    92858 non-null  object\n",
      " 3   summary1    92858 non-null  object\n",
      " 4   preference  92858 non-null  int64 \n",
      "dtypes: int64(1), object(4)\n",
      "memory usage: 3.5+ MB\n"
     ]
    }
   ],
   "source": [
    "pref_data_labeled.info()"
   ]
  },
  {
   "cell_type": "markdown",
   "metadata": {},
   "source": [
    "# Annotation"
   ]
  },
  {
   "cell_type": "code",
   "execution_count": 220,
   "metadata": {},
   "outputs": [],
   "source": [
    "# function annotate dataset\n",
    "\n",
    "import requests \n",
    "import json\n",
    "\n",
    "def get_annotation(dataset, position=0, reversed_order=False, model='llama2', ip_adress='10.1.25.121'):\n",
    "    base_preamble = 'You are an expert summary rater. Given a piece of text and two of its possible summaries, output only 1 or 2 to indicate which summary is better. Return only \"1\" or \"2\" without an explanation!'\n",
    "    detailed_preable = 'A good summary is a shorter piece of text that has the essence of the original. It tries to accomplish the same purpose and conveys the key information from the original post. Below we define four evaluation axes for summary quality: coherence, accuracy, coverage, and overall quality. Coherence: This axis answers the question “how coherent is the summary on its own?” A summary is coherent if it’s easy to understand when read on its own and free of English errors. A summary is not coherent if it’s difficult to understand what the summary is trying to say. Generally, it’s more important that the summary is understandable than it being free of grammar errors. Accuracy: This axis answers the question “does the factual information in the summary accurately match the post?” A summary is accurate if it doesn’t say things that aren’t in the article, it doesn’t mix up people, and generally is not misleading. Coverage: This axis answers the question “how well does the summary cover the important information in the post?” A summary has good coverage if it mentions the main information from the post that’s important to understand the situation described in the post. A summary has poor coverage if someone reading only the summary would be missing several important pieces of information about the situation in the post. A summary with good coverage should also match the purpose of the original post (e.g. to ask for advice). Overall quality: This axis answers the question “how good is the summary overall at representing the post?” This can encompass all of the above axes of quality, as well as others you feel are important. If it’s hard to find ways to make the summary better, the overall quality is good. If there are lots of different ways the summary can be made better, the overall quality is bad. You are an expert summary rater. Given a piece of text and two of its possible summaries, output only 1 or 2 to indicate which summary best adheres to coherence, accuracy, coverage, and overall quality as defined above.'\n",
    "    instructions = 'Which of the following summaries is better? Consider the coherence, accuracy, coverage, and overall quality of each summary. Return only \"1\" or \"2\" without an explanation! \\n\\n'\n",
    "    if reversed_order:\n",
    "        sample_to_annotate =   'Title: {title}\\n\\\n",
    "                                Text: {post}\\n\\\n",
    "                                Summary 1: {summary0}\\n\\\n",
    "                                Summary 2: {summary1}\\n\\n\\\n",
    "                                Preferred Summary='\\\n",
    "                                .format(post=dataset['post'][position], title=dataset['title'][position], summary0=dataset['summary1'][position], summary1=dataset['summary0'][position])\n",
    "    else:\n",
    "        sample_to_annotate =   'Title: {title}\\n\\\n",
    "                                Text: {post}\\n\\\n",
    "                                Summary 1: {summary0}\\n\\\n",
    "                                Summary 2: {summary1}\\n\\n\\\n",
    "                                Preferred Summary='\\\n",
    "                                .format(post=dataset['post'][position], title=dataset['title'][position], summary0=dataset['summary0'][position], summary1=dataset['summary1'][position])\n",
    "    # example = '»»»» Example »»»» Text - We were best friends over 4 years ... Summary 1 - Broke up with best friend, should I wish her a happy birthday... And what do you think of no contact? Summary 2 - should I wish my ex happy birthday, I broke no contact, I’m trying to be more patient, I’m too needy, and I don’t want her to think I’ll keep being that guy. Preferred Summary=1 »»»» Follow the instructions and the example(s) above »»»»'\n",
    "    # ending = 'ONLY ANSWER WITH 1 OR 2 AND NO EXPLANATION!'\n",
    "\n",
    "    # prompt = detailed_preable + '\\n\\n' + example + '\\n\\n' + sample_to_annotate + '\\n\\n' + ending\n",
    "    # prompt = base_preamble + '\\n\\n' + example + '\\n\\n' + sample_to_annotate + '\\n\\n' + ending\n",
    "    # prompt = base_preamble + '\\n\\n' + detailed_preable + '\\n\\n' + sample_to_annotate + '\\n\\n' + ending\n",
    "\n",
    "    chat_content = [\n",
    "        # System\n",
    "        {\n",
    "            'role': 'system',\n",
    "            'content': base_preamble + '\\n\\n' + detailed_preable \n",
    "        },\n",
    "        # Example 1\n",
    "        {\n",
    "            'role': 'user',\n",
    "            'content': 'Which of the following summaries is better? Consider the coherence, accuracy, coverage, and overall quality of each summary. Return only \"1\" or \"2\" without an explanation! \\n\\n\\\n",
    "                        Title: {title}\\n\\\n",
    "                        Text: {post}\\n\\\n",
    "                        Summary 1: {summary0}\\n\\\n",
    "                        Summary 2: {summary1}\\n\\\n",
    "                        Preferred Summary='\\\n",
    "                        .format(post=dataset['post'][0], title=dataset['title'][0], summary0=dataset['summary0'][0], summary1=dataset['summary1'][0])                    \n",
    "        },\n",
    "        {\n",
    "            'role': 'assistant',\n",
    "            'content': '2'\n",
    "        },\n",
    "        # Example 2\n",
    "        {\n",
    "            'role': 'user',\n",
    "            'content': 'Which of the following summaries is better? Consider the coherence, accuracy, coverage, and overall quality of each summary. Return only \"1\" or \"2\" without an explanation! \\n\\n\\\n",
    "                        Title: {title}\\n\\\n",
    "                        Text: {post}\\n\\\n",
    "                        Summary 1: {summary0}\\n\\\n",
    "                        Summary 2: {summary1}\\n\\\n",
    "                        Preferred Summary='\\\n",
    "                        .format(post=dataset['post'][2], title=dataset['title'][2], summary0=dataset['summary0'][2], summary1=dataset['summary1'][2])                    \n",
    "        },\n",
    "        {\n",
    "            'role': 'assistant',\n",
    "            'content': '1'\n",
    "        },\n",
    "        # Example 3\n",
    "        {\n",
    "            'role': 'user',\n",
    "            'content': 'Which of the following summaries is better? Consider the coherence, accuracy, coverage, and overall quality of each summary. Return only \"1\" or \"2\" without an explanation! \\n\\n\\\n",
    "                        Title: {title}\\n\\\n",
    "                        Text: {post}\\n\\\n",
    "                        Summary 1: {summary0}\\n\\\n",
    "                        Summary 2: {summary1}\\n\\\n",
    "                        Preferred Summary='\\\n",
    "                        .format(post=dataset['post'][4], title=dataset['title'][4], summary0=dataset['summary0'][4], summary1=dataset['summary1'][4])                    \n",
    "        },\n",
    "        {\n",
    "            'role': 'assistant',\n",
    "            'content': '2'\n",
    "        },\n",
    "        # Example 4\n",
    "        {\n",
    "            'role': 'user',\n",
    "            'content': 'Which of the following summaries is better? Consider the coherence, accuracy, coverage, and overall quality of each summary. Return only \"1\" or \"2\" without an explanation! \\n\\n\\\n",
    "                        Title: {title}\\n\\\n",
    "                        Text: {post}\\n\\\n",
    "                        Summary 1: {summary0}\\n\\\n",
    "                        Summary 2: {summary1}\\n\\\n",
    "                        Preferred Summary='\\\n",
    "                        .format(post=dataset['post'][6], title=dataset['title'][6], summary0=dataset['summary0'][6], summary1=dataset['summary1'][6])                    \n",
    "        },\n",
    "        {\n",
    "            'role': 'assistant',\n",
    "            'content': '1'\n",
    "        },\n",
    "        # Example 5\n",
    "        {\n",
    "            'role': 'user',\n",
    "            'content': 'Which of the following summaries is better? Consider the coherence, accuracy, coverage, and overall quality of each summary. Return only \"1\" or \"2\" without an explanation! \\n\\n\\\n",
    "                        Title: {title}\\n\\\n",
    "                        Text: {post}\\n\\\n",
    "                        Summary 1: {summary0}\\n\\\n",
    "                        Summary 2: {summary1}\\n\\\n",
    "                        Preferred Summary='\\\n",
    "                        .format(post=dataset['post'][9], title=dataset['title'][9], summary0=dataset['summary0'][9], summary1=dataset['summary1'][9])                    \n",
    "        },\n",
    "        {\n",
    "            'role': 'assistant',\n",
    "            'content': '2'\n",
    "        },\n",
    "\n",
    "        # Final Prompt\n",
    "        {\n",
    "            'role': 'user',\n",
    "            'content': instructions + sample_to_annotate\n",
    "        }\n",
    "    ]\n",
    "    payload = {\n",
    "    'model': model,\n",
    "    'messages': chat_content,\n",
    "    'stream': False\n",
    "}\n",
    "    headers = {'Content-Type': 'application/json'}\n",
    "    response = requests.post(f'http://{ip_adress}:11434/api/chat', data=json.dumps(payload), headers=headers)\n",
    " \n",
    "    return response\n",
    "    # return response.json()['message']['content']"
   ]
  },
  {
   "cell_type": "code",
   "execution_count": 225,
   "metadata": {},
   "outputs": [],
   "source": [
    "ai_feedback_test = pd.DataFrame(columns=['human', 'ai', 'ai_reversed'])\n",
    "ai_feedback_test['human'] = (pref_data_labeled['preference'][10:110]+1).copy()\n",
    "ai_feedback_test = ai_feedback_test.reset_index(drop=True)\n",
    "\n",
    "for i in range(100):\n",
    "    ai_feedback_test.loc[i, 'ai'] = get_annotation(pref_data_labeled, i).json()['message']['content']\n",
    "    ai_feedback_test.loc[i, 'ai_reversed'] = get_annotation(pref_data_labeled, i, reversed_order=True).json()['message']['content']\n",
    "\n"
   ]
  },
  {
   "cell_type": "code",
   "execution_count": 239,
   "metadata": {},
   "outputs": [],
   "source": [
    "# save to feather\n",
    "ai_feedback_test.to_feather('../data/preference_data/ai_feedback_test.feather')"
   ]
  },
  {
   "cell_type": "code",
   "execution_count": 235,
   "metadata": {},
   "outputs": [
    {
     "data": {
      "text/plain": [
       "human          int64\n",
       "ai             int32\n",
       "ai_reversed    int32\n",
       "dtype: object"
      ]
     },
     "execution_count": 235,
     "metadata": {},
     "output_type": "execute_result"
    }
   ],
   "source": [
    "# convert datatypes\n",
    "ai_feedback_test['ai'] = ai_feedback_test['ai'].astype(int)\n",
    "ai_feedback_test['ai_reversed'] = ai_feedback_test['ai_reversed'].astype(int)\n",
    "\n",
    "ai_feedback_test.dtypes"
   ]
  },
  {
   "cell_type": "code",
   "execution_count": 237,
   "metadata": {},
   "outputs": [
    {
     "data": {
      "text/plain": [
       "(53, 3)"
      ]
     },
     "execution_count": 237,
     "metadata": {},
     "output_type": "execute_result"
    }
   ],
   "source": [
    "# correct labels (only normal order)\n",
    "ai_feedback_test[(ai_feedback_test['human'] == ai_feedback_test['ai'])].shape"
   ]
  },
  {
   "cell_type": "code",
   "execution_count": 238,
   "metadata": {},
   "outputs": [
    {
     "data": {
      "text/html": [
       "<div>\n",
       "<style scoped>\n",
       "    .dataframe tbody tr th:only-of-type {\n",
       "        vertical-align: middle;\n",
       "    }\n",
       "\n",
       "    .dataframe tbody tr th {\n",
       "        vertical-align: top;\n",
       "    }\n",
       "\n",
       "    .dataframe thead th {\n",
       "        text-align: right;\n",
       "    }\n",
       "</style>\n",
       "<table border=\"1\" class=\"dataframe\">\n",
       "  <thead>\n",
       "    <tr style=\"text-align: right;\">\n",
       "      <th></th>\n",
       "      <th>human</th>\n",
       "      <th>ai</th>\n",
       "      <th>ai_reversed</th>\n",
       "    </tr>\n",
       "  </thead>\n",
       "  <tbody>\n",
       "    <tr>\n",
       "      <th>16</th>\n",
       "      <td>1</td>\n",
       "      <td>1</td>\n",
       "      <td>2</td>\n",
       "    </tr>\n",
       "    <tr>\n",
       "      <th>22</th>\n",
       "      <td>2</td>\n",
       "      <td>2</td>\n",
       "      <td>1</td>\n",
       "    </tr>\n",
       "    <tr>\n",
       "      <th>40</th>\n",
       "      <td>2</td>\n",
       "      <td>2</td>\n",
       "      <td>1</td>\n",
       "    </tr>\n",
       "    <tr>\n",
       "      <th>48</th>\n",
       "      <td>2</td>\n",
       "      <td>2</td>\n",
       "      <td>1</td>\n",
       "    </tr>\n",
       "    <tr>\n",
       "      <th>52</th>\n",
       "      <td>1</td>\n",
       "      <td>1</td>\n",
       "      <td>2</td>\n",
       "    </tr>\n",
       "  </tbody>\n",
       "</table>\n",
       "</div>"
      ],
      "text/plain": [
       "    human  ai  ai_reversed\n",
       "16      1   1            2\n",
       "22      2   2            1\n",
       "40      2   2            1\n",
       "48      2   2            1\n",
       "52      1   1            2"
      ]
     },
     "execution_count": 238,
     "metadata": {},
     "output_type": "execute_result"
    }
   ],
   "source": [
    "# correct labels (normal and reversed order)\n",
    "ai_feedback_test[(ai_feedback_test['human'] == ai_feedback_test['ai']) & (ai_feedback_test['ai'] != ai_feedback_test['ai_reversed'])]\n"
   ]
  },
  {
   "cell_type": "code",
   "execution_count": 241,
   "metadata": {},
   "outputs": [
    {
     "data": {
      "text/html": [
       "<div>\n",
       "<style scoped>\n",
       "    .dataframe tbody tr th:only-of-type {\n",
       "        vertical-align: middle;\n",
       "    }\n",
       "\n",
       "    .dataframe tbody tr th {\n",
       "        vertical-align: top;\n",
       "    }\n",
       "\n",
       "    .dataframe thead th {\n",
       "        text-align: right;\n",
       "    }\n",
       "</style>\n",
       "<table border=\"1\" class=\"dataframe\">\n",
       "  <thead>\n",
       "    <tr style=\"text-align: right;\">\n",
       "      <th></th>\n",
       "      <th>human</th>\n",
       "      <th>ai</th>\n",
       "      <th>ai_reversed</th>\n",
       "    </tr>\n",
       "  </thead>\n",
       "  <tbody>\n",
       "    <tr>\n",
       "      <th>0</th>\n",
       "      <td>2</td>\n",
       "      <td>1</td>\n",
       "      <td>1</td>\n",
       "    </tr>\n",
       "    <tr>\n",
       "      <th>1</th>\n",
       "      <td>1</td>\n",
       "      <td>1</td>\n",
       "      <td>1</td>\n",
       "    </tr>\n",
       "    <tr>\n",
       "      <th>2</th>\n",
       "      <td>1</td>\n",
       "      <td>1</td>\n",
       "      <td>1</td>\n",
       "    </tr>\n",
       "    <tr>\n",
       "      <th>4</th>\n",
       "      <td>1</td>\n",
       "      <td>1</td>\n",
       "      <td>1</td>\n",
       "    </tr>\n",
       "    <tr>\n",
       "      <th>5</th>\n",
       "      <td>1</td>\n",
       "      <td>1</td>\n",
       "      <td>1</td>\n",
       "    </tr>\n",
       "    <tr>\n",
       "      <th>...</th>\n",
       "      <td>...</td>\n",
       "      <td>...</td>\n",
       "      <td>...</td>\n",
       "    </tr>\n",
       "    <tr>\n",
       "      <th>95</th>\n",
       "      <td>2</td>\n",
       "      <td>1</td>\n",
       "      <td>1</td>\n",
       "    </tr>\n",
       "    <tr>\n",
       "      <th>96</th>\n",
       "      <td>2</td>\n",
       "      <td>1</td>\n",
       "      <td>1</td>\n",
       "    </tr>\n",
       "    <tr>\n",
       "      <th>97</th>\n",
       "      <td>2</td>\n",
       "      <td>1</td>\n",
       "      <td>1</td>\n",
       "    </tr>\n",
       "    <tr>\n",
       "      <th>98</th>\n",
       "      <td>1</td>\n",
       "      <td>1</td>\n",
       "      <td>1</td>\n",
       "    </tr>\n",
       "    <tr>\n",
       "      <th>99</th>\n",
       "      <td>1</td>\n",
       "      <td>1</td>\n",
       "      <td>1</td>\n",
       "    </tr>\n",
       "  </tbody>\n",
       "</table>\n",
       "<p>89 rows × 3 columns</p>\n",
       "</div>"
      ],
      "text/plain": [
       "    human  ai  ai_reversed\n",
       "0       2   1            1\n",
       "1       1   1            1\n",
       "2       1   1            1\n",
       "4       1   1            1\n",
       "5       1   1            1\n",
       "..    ...  ..          ...\n",
       "95      2   1            1\n",
       "96      2   1            1\n",
       "97      2   1            1\n",
       "98      1   1            1\n",
       "99      1   1            1\n",
       "\n",
       "[89 rows x 3 columns]"
      ]
     },
     "execution_count": 241,
     "metadata": {},
     "output_type": "execute_result"
    }
   ],
   "source": [
    "ai_feedback_test[(ai_feedback_test['ai'] == 1) & (ai_feedback_test['ai_reversed'] == 1)]"
   ]
  },
  {
   "cell_type": "code",
   "execution_count": 1,
   "metadata": {},
   "outputs": [],
   "source": [
    "import pandas as pd\n",
    "ai_feedback_1 = pd.read_feather('data/ai_feedback-llama2:70b-chat-2024-04-13.feather')"
   ]
  },
  {
   "cell_type": "code",
   "execution_count": 8,
   "metadata": {},
   "outputs": [
    {
     "data": {
      "text/plain": [
       "human                      1\n",
       "ai                      None\n",
       "ai_reversed             None\n",
       "duration_ai             None\n",
       "duration_ai_reversed    None\n",
       "response_ai             None\n",
       "response_ai_reversed    None\n",
       "Name: 15575, dtype: object"
      ]
     },
     "execution_count": 8,
     "metadata": {},
     "output_type": "execute_result"
    }
   ],
   "source": [
    "ai_feedback_1.loc[15575]"
   ]
  }
 ],
 "metadata": {
  "kernelspec": {
   "display_name": "ba_rlaif",
   "language": "python",
   "name": "ba_rlaif"
  },
  "language_info": {
   "codemirror_mode": {
    "name": "ipython",
    "version": 3
   },
   "file_extension": ".py",
   "mimetype": "text/x-python",
   "name": "python",
   "nbconvert_exporter": "python",
   "pygments_lexer": "ipython3",
   "version": "3.9.16"
  }
 },
 "nbformat": 4,
 "nbformat_minor": 2
}
